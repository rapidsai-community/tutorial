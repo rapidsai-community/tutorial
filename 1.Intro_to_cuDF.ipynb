{
 "cells": [
  {
   "cell_type": "markdown",
   "metadata": {},
   "source": [
    "# GPU ETL with cuDF\n",
    "\n",
    "<img src=\"https://raw.githubusercontent.com/rapidsai-community/tutorial/refs/heads/main/images/cudf-benchmark.png\" style=\"float: right; margin-left: 15px;\">\n",
    "\n",
    "`cuDF` is a high level Python GPU DataFrame library (built on Apache Arrow columnar memory format) with a pandas-like API.\n",
    "\n",
    "- Core functions for loading, filtering, aggregating, joining and manipulating data\n",
    "- Numeric, datetime, categorical, string and nested data\n",
    "- GPU accelerated I/O (e.g., CSV, Parquet, JSON)\n",
    "- 10-100x faster than pandas*\n",
    "- Implements a [subset](https://docs.rapids.ai/api/cudf/stable/user_guide/api_docs/#cudf-api) of the `pandas` API (60-75%), \n",
    "but it should be very familiar to `pandas` users.\n",
    "- Built upon the `libcudf` CUDA C++ library\n",
    " \n",
    "When using `cuDF` data is loaded onto the GPU and all operations are performed with GPU compute. \n",
    "\n",
    "**Two modes of usage:**\n",
    "- Standalone library (this notebook)\n",
    "- cudf.pandas (next notebook)\n",
    "\n",
    "**Image Note:**\n",
    "Benchmark on AMD EPYC 7642 (using 1x 2.3GHz CPU core) w/ 512GB and NVIDIA A100 80GB (1x GPU) w/ pandas v1.5 and cuDF v23.02\n",
    "\n",
    "**Attribution:** This section of the tutorial is based on the cuDF notebook from [Accelerated Computing Hub GPU python-tutorial](https://github.com/NVIDIA/accelerated-computing-hub/blob/main/gpu-python-tutorial/6.0_cuDF.ipynb)\n",
    "\n",
    "### Data \n",
    "\n",
    "If you are running this locally, and you followed the steps in notebook [0.Welcome_and_Setup.ipynb](https://github.com/rapidsai-community/tutorial/blob/main/0.Welcome_and_Setup.ipynb), you should have the `/data` folder ready to go. \n",
    "\n",
    "#### Google Colab Instructions\n",
    "\n",
    "In the next step we download a script that will allow you to get the data for this notebook session.\n"
   ]
  },
  {
   "cell_type": "code",
   "execution_count": null,
   "metadata": {},
   "outputs": [],
   "source": [
    "# colab: uncomment next line to get the data setup script\n",
    "#! wget https://raw.githubusercontent.com/rapidsai-community/tutorial/refs/heads/main/data_setup.py"
   ]
  },
  {
   "cell_type": "code",
   "execution_count": null,
   "metadata": {},
   "outputs": [],
   "source": [
    "# colab: uncomment next line to get the pageviews data set\n",
    "#! python data_setup.py --pageviews"
   ]
  },
  {
   "cell_type": "code",
   "execution_count": null,
   "metadata": {},
   "outputs": [],
   "source": [
    "# Verify that you are running with an NVIDIA GPU\n",
    "! nvidia-smi  # this should display information about available GPUs"
   ]
  },
  {
   "cell_type": "markdown",
   "metadata": {},
   "source": [
    "This `pageviews.csv` file contains just over 1M records of pageview counts from Wikipedia in various languages.\n",
    "\n",
    "The data we will use in this tutorial is too small to really benefit from GPU acceleration, but we will explore it \n",
    "anyway."
   ]
  },
  {
   "cell_type": "code",
   "execution_count": null,
   "metadata": {},
   "outputs": [],
   "source": [
    "import cudf"
   ]
  },
  {
   "cell_type": "code",
   "execution_count": null,
   "metadata": {},
   "outputs": [],
   "source": [
    "pageviews = cudf.read_csv('data/pageviews_small.csv', sep=\" \")\n",
    "pageviews.head()"
   ]
  },
  {
   "cell_type": "markdown",
   "metadata": {},
   "source": [
    "The `pageviews_small.csv` file contains just over 1M records of pageview counts from \n",
    "Wikipedia in various languages.\n",
    "\n",
    "Let's rename the columns and drop the unused x column."
   ]
  },
  {
   "cell_type": "code",
   "execution_count": null,
   "metadata": {},
   "outputs": [],
   "source": [
    "pageviews.columns = ['project', 'page', 'requests', 'x']\n",
    "\n",
    "pageviews = pageviews.drop('x', axis=1)\n",
    "\n",
    "pageviews"
   ]
  },
  {
   "cell_type": "markdown",
   "metadata": {},
   "source": [
    "If we want to select only the ones in english we can do:"
   ]
  },
  {
   "cell_type": "code",
   "execution_count": null,
   "metadata": {},
   "outputs": [],
   "source": [
    "pageviews[pageviews.project == 'en']"
   ]
  },
  {
   "cell_type": "markdown",
   "metadata": {},
   "source": [
    "**Exercise**: Find the number of english records in the dataset\n",
    "\n",
    "<details>\n",
    "  <summary>Solution (click dropdown) </summary>\n",
    "  <p>\n",
    "\n",
    "```python\n",
    "# to run this type it in a code cell\n",
    "pageviews[pageviews.project == 'en'].count()\n",
    "```\n",
    "  </p>\n",
    "</details>\n"
   ]
  },
  {
   "cell_type": "code",
   "execution_count": null,
   "metadata": {},
   "outputs": [],
   "source": [
    "# your solution here\n"
   ]
  },
  {
   "cell_type": "markdown",
   "metadata": {},
   "source": [
    "We can group by `project` and get a count of the pages by language"
   ]
  },
  {
   "cell_type": "code",
   "execution_count": null,
   "metadata": {},
   "outputs": [],
   "source": [
    "grouped_pageviews = pageviews.groupby('project').count().reset_index()\n",
    "grouped_pageviews"
   ]
  },
  {
   "cell_type": "markdown",
   "metadata": {},
   "source": [
    "**Exercise**: Get `grouped_pageviews` sorted in descending order.\n",
    "_Hint_: Check the [cudf docs](https://docs.rapids.ai/api/cudf/stable/user_guide/api_docs/api/cudf.dataframe.sort_values/)\n",
    "\n",
    "<details>\n",
    "  <summary>Solution (click dropdown) </summary>\n",
    "  <p>\n",
    "\n",
    "```python\n",
    "# to run this type it in a code cell\n",
    "grouped_pageviews.sort_values('page', ascending=False)\n",
    "```\n",
    "  </p>\n",
    "</details>"
   ]
  },
  {
   "cell_type": "code",
   "execution_count": null,
   "metadata": {},
   "outputs": [],
   "source": [
    "# your solution here"
   ]
  },
  {
   "cell_type": "markdown",
   "metadata": {},
   "source": [
    "We can also take a look at the result for English, French, Chinese and Spanish."
   ]
  },
  {
   "cell_type": "code",
   "execution_count": null,
   "metadata": {},
   "outputs": [],
   "source": [
    "grouped_pageviews[grouped_pageviews.project.isin(['en', 'fr', 'zh', 'es'])]\n"
   ]
  },
  {
   "cell_type": "markdown",
   "metadata": {},
   "source": [
    "If you are a `pandas` user this syntax should be very familiar to you. These are only \n",
    "a few examples of a large portion of the `pandas` API that is implemented in `cuDF`. \n",
    "\n",
    "The only difference is that all the operations we have run so far are running on the GPU. \n",
    "\n",
    "### Strings\n",
    "\n",
    "`cuDF` string operations are accelerated with specialized kernels. This means that \n",
    "operations like capitalizing strings can be parallelized on the GPU. "
   ]
  },
  {
   "cell_type": "code",
   "execution_count": null,
   "metadata": {},
   "outputs": [],
   "source": [
    "pageviews[pageviews.project == 'en'].page.str.upper()"
   ]
  },
  {
   "cell_type": "code",
   "execution_count": null,
   "metadata": {},
   "outputs": [],
   "source": [
    "pageviews[pageviews.project == 'en'].page.str.replace('_', ' ')"
   ]
  },
  {
   "cell_type": "markdown",
   "metadata": {},
   "source": [
    "### UDFs\n",
    "\n",
    "`cuDF` also has support for user defined functions (UDFs) that can be mapped over a Series or DataFrame in parallel on the GPU.\n",
    "\n",
    "UDFs can be defined as pure Python functions that take a single value. These functions are compiled by Numba at runtime into \n",
    "GPU-executable code when .apply() is called."
   ]
  },
  {
   "cell_type": "code",
   "execution_count": null,
   "metadata": {},
   "outputs": [],
   "source": [
    "def udf(x):\n",
    "    if x < 5:\n",
    "        return 0\n",
    "    return x"
   ]
  },
  {
   "cell_type": "code",
   "execution_count": null,
   "metadata": {},
   "outputs": [],
   "source": [
    "pageviews.requests = pageviews.requests.apply(udf)\n",
    "pageviews.requests"
   ]
  },
  {
   "cell_type": "markdown",
   "metadata": {},
   "source": [
    "We can apply more than one filter too:"
   ]
  },
  {
   "cell_type": "code",
   "execution_count": null,
   "metadata": {},
   "outputs": [],
   "source": [
    "(pageviews[(pageviews.requests != 0) & (pageviews.project == 'en')]\n",
    " .sort_values('requests', ascending=False))"
   ]
  },
  {
   "cell_type": "markdown",
   "metadata": {},
   "source": [
    "### Rolling windows\n",
    "\n",
    "In `cuDF` you can also apply kernels over rolling windows. "
   ]
  },
  {
   "cell_type": "code",
   "execution_count": null,
   "metadata": {},
   "outputs": [],
   "source": [
    "def neigborhood_mean(window):\n",
    "    c = 0\n",
    "    for val in window:\n",
    "        c += val\n",
    "    return c / len(window)"
   ]
  },
  {
   "cell_type": "code",
   "execution_count": null,
   "metadata": {},
   "outputs": [],
   "source": [
    "pageviews.requests.rolling(3, 1, True).apply(neigborhood_mean)"
   ]
  },
  {
   "cell_type": "markdown",
   "metadata": {},
   "source": [
    "## Conclusion\n",
    "\n",
    "In this notebook, we explored the basics of cuDF - RAPIDS' GPU-accelerated DataFrame library. We learned how to:\n",
    "\n",
    "- Load and manipulate data with cuDF DataFrames\n",
    "- Filter and sort data efficiently\n",
    "- Apply custom functions using UDFs\n",
    "- Work with rolling windows\n",
    "\n",
    "To learn more checkout the [cuDF documentation](https://docs.rapids.ai/api/cudf/stable/)\n",
    "\n",
    "In the next notebook, we will learn about the `cudf.pandas` accelerator and how to get performance out of your pandas\n",
    "code with zero-code changes.\n",
    "\n",
    "[Colab Next Notebook: 2 cudf.pandas →](https://colab.research.google.com/github/rapidsai-community/tutorial/blob/main/2.cudf_pandas.ipynb)\n",
    "\n"
   ]
  }
 ],
 "metadata": {
  "kernelspec": {
   "display_name": "Python 3 (ipykernel)",
   "language": "python",
   "name": "python3"
  },
  "language_info": {
   "codemirror_mode": {
    "name": "ipython",
    "version": 3
   },
   "file_extension": ".py",
   "mimetype": "text/x-python",
   "name": "python",
   "nbconvert_exporter": "python",
   "pygments_lexer": "ipython3",
   "version": "3.13.8"
  }
 },
 "nbformat": 4,
 "nbformat_minor": 4
}
