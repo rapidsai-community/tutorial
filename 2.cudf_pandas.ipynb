{
  "cells": [
    {
      "cell_type": "markdown",
      "metadata": {
        "id": "kcF9ZWvjSybR"
      },
      "source": [
        "# RAPIDS cuDF's pandas accelerator mode (cudf.pandas)\n",
        "\n",
        "<img src=\"https://raw.githubusercontent.com/rapidsai-community/tutorial/refs/heads/main/images/cudf-pandas-exec-flow.png\" style=\"float: right; margin-left: 5px; width: 250px;\">\n",
        "\n",
        "In the previous notebook we learn how `cuDF` help us leverage the GPU while keeping a familiar pandas API. But `cuDF` \n",
        "also has a zero-code-change feature that can help you get better performance from your existing pandas code.\n",
        "\n",
        "`cuDF` provides a pandas accelerator mode (`cudf.pandas`), allowing you to bring accelerated computing to your pandas \n",
        "workflows without requiring any code change.\n",
        "\n",
        "\n",
        "## Why should I use `cudf.pandas`?\n",
        "\n",
        "- Requires no changes to existing pandas code. Just\n",
        "    - `%load_ext cudf.pandas`\n",
        "    - `$ python –m cudf.pandas <script.py>`\n",
        "- 100% of the pandas API\n",
        "- Accelerates workflows up to [150x using the GPU](https://developer.nvidia.com/blog/rapids-cudf-accelerates-pandas-nearly-150x-with-zero-code-changes/)\n",
        "- Compatible with code that uses third-party libraries\n",
        "- Falls back to using pandas on the CPU for unsupported functions and methods\n",
        "\n",
        "**Attribution:** This section of the tutorial is based on the `cudf.pandas` [quickstart notebook](https://colab.research.google.com/github/rapidsai-community/showcase/blob/main/getting_started_tutorials/cudf_pandas_colab_demo.ipynb?ncid=ref-inor-554580) from the RAPIDS documentation.\n",
        "\n",
        "### Data \n",
        "\n",
        "The data we'll be working with is the [Parking Violations Issued - Fiscal Year 2022](https://data.cityofnewyork.us/City-Government/Parking-Violations-Issued-Fiscal-Year-2022/7mxj-7a6y) \n",
        "dataset from NYC Open Data.\n",
        "\n",
        "The dataset was downloaded during the setup step in welcome and setup notebook, and it is a copy of the original dataset. \n",
        "The only difference is that it is hosted by NVIDIA on an S3 bucket and it's in `.parquet` format and to provide faster download speeds.\n",
        "\n",
        "If you are running this locally, and you followed the steps in the [0.Welcome_and_Setup.ipynb](https://github.com/rapidsai-community/tutorial/blob/main/0.Welcome_and_Setup.ipynb) notebook, you should have the `/data` folder ready to go. \n",
        "\n",
        "#### Google Colab Instructions\n",
        "\n",
        "In the next step we download a script that will allow you to get the data for this notebook session."
      ]
    },
    {
      "cell_type": "code",
      "execution_count": null,
      "metadata": {},
      "outputs": [],
      "source": [
        "\n",
        "# colab: uncomment next line to get the data setup script\n",
        "#! wget https://raw.githubusercontent.com/rapidsai-community/tutorial/refs/heads/main/data_setup.py"
      ]
    },
    {
      "cell_type": "code",
      "execution_count": null,
      "metadata": {},
      "outputs": [],
      "source": [
        "# colab: uncomment next line to get the pageviews data set\n",
        "#! python data_setup.py --nyc-parking "
      ]
    },
    {
      "cell_type": "code",
      "execution_count": null,
      "metadata": {
        "colab": {
          "base_uri": "https://localhost:8080/"
        },
        "id": "Y2vPCtXcCvUR",
        "outputId": "bbc9fe46-ad25-4781-ff8d-5a7a5bbefb41",
        "tags": []
      },
      "outputs": [],
      "source": [
        "# Verify that you are running with an NVIDIA GPU\n",
        "! nvidia-smi  # this should display information about available GPUs"
      ]
    },
    {
      "cell_type": "code",
      "execution_count": 1,
      "metadata": {
        "id": "SLRleX9xWxqX",
        "tags": []
      },
      "outputs": [],
      "source": [
        "%load_ext cudf.pandas\n",
        "import pandas as pd"
      ]
    },
    {
      "cell_type": "code",
      "execution_count": null,
      "metadata": {
        "colab": {
          "base_uri": "https://localhost:8080/",
          "height": 554
        },
        "id": "OLatEi7rW0la",
        "outputId": "d9de97fa-8156-4547-db56-0ffd44d18faf",
        "tags": []
      },
      "outputs": [],
      "source": [
        "# read some columns of the dataset\n",
        "df = pd.read_parquet(\n",
        "    \"data/nyc_parking_violations_2022.parquet\",\n",
        "    columns=[\n",
        "        \"Registration State\",\n",
        "        \"Violation Code\", \n",
        "        \"Vehicle Body Type\",\n",
        "        \"Vehicle Make\",\n",
        "        \"Violation Time\",\n",
        "        \"Violation County\", \n",
        "        \"Vehicle Year\",\n",
        "        \"Violation Description\",\n",
        "        \"Issue Date\",\n",
        "        \"Summons Number\",\n",
        "    ],\n",
        ")\n",
        "\n",
        "# view a random sample of 10 rows:\n",
        "df.head()"
      ]
    },
    {
      "cell_type": "markdown",
      "metadata": {
        "id": "VmkFv9ZUW37g"
      },
      "source": [
        "## Parking violations by Registration state \n",
        "\n",
        "Each record in our dataset contains the state of registration of the offending vehicle, and the type of parking violation. \n",
        "To get the most common type of violation for vehicles registered in different states, we use [value_counts](https://pandas.pydata.org/docs/reference/api/pandas.Series.value_counts.html) and [GroupBy.head](https://pandas.pydata.org/docs/reference/api/pandas.core.groupby.DataFrameGroupBy.head.html):"
      ]
    },
    {
      "cell_type": "code",
      "execution_count": null,
      "metadata": {
        "colab": {
          "base_uri": "https://localhost:8080/",
          "height": 423
        },
        "id": "bHXq-s_ZXOQN",
        "outputId": "df9f6c96-3348-49de-8b08-5a79186a2c4a"
      },
      "outputs": [],
      "source": [
        "%%time\n",
        "\n",
        "(\n",
        "    df[[\"Registration State\", \"Violation Description\"]]  # get only these two columns\n",
        "    .value_counts()  # get the count of violations per state and per type of offence\n",
        "    .groupby(\"Registration State\")  # group by state\n",
        "    .head(1)  # get the first row in each group (the type of violation with the largest count)\n",
        "    .sort_index()  # sort by state name\n",
        "    .reset_index()\n",
        ")"
      ]
    },
    {
      "cell_type": "markdown",
      "metadata": {
        "id": "8lXF4v4SXRf3"
      },
      "source": [
        "The code above uses [method chaining](https://tomaugspurger.net/posts/method-chaining/) to combine a series of operations \n",
        "into a single statement. You might find it useful to break the code up into multiple statements and inspect each of the intermediate results."
      ]
    },
    {
      "cell_type": "markdown",
      "metadata": {
        "id": "H7_9EmGyXUJd"
      },
      "source": [
        "## What types of vehicle are most frequently involved in parking violations?"
      ]
    },
    {
      "cell_type": "code",
      "execution_count": null,
      "metadata": {
        "colab": {
          "base_uri": "https://localhost:8080/",
          "height": 455
        },
        "id": "d7Ax-u4TXZtp",
        "outputId": "875f55f8-c568-4ecb-b134-81a955c8dd1f"
      },
      "outputs": [],
      "source": [
        "%%time\n",
        "\n",
        "(\n",
        "    df.groupby([\"Vehicle Body Type\"])\n",
        "    .agg({\"Summons Number\": \"count\"})\n",
        "    .rename(columns={\"Summons Number\": \"Count\"})\n",
        "    .sort_values([\"Count\"], ascending=False)\n",
        ")"
      ]
    },
    {
      "cell_type": "markdown",
      "metadata": {},
      "source": [
        "From the [Vehicle Body Type dictionary](https://data.ny.gov/api/assets/83055271-29A6-4ED4-9374-E159F30DB5AE) form the \n",
        "NYC Parking Data.\n",
        "\n",
        "- SUBN: SUBURBAN\n",
        "- 4DSD: FOUR-DOOR SEDAN\n",
        "- VAN: VAN TRUCK\n",
        "- DELV: DELIVERY TRUCK\n",
        "- PICK: PICK-UP TRUCK\n",
        "\n",
        "**Exercise:** Get the top 5 parking offenders by Vehicle Brands. \n",
        "\n",
        "<details>\n",
        "  <summary>Solution (click dropdown) </summary>\n",
        "  <p>\n",
        "\n",
        "```python\n",
        "# to run this type it in a code cell\n",
        "(df\n",
        " .groupby([\"Vehicle Make\"])\n",
        " .agg({\"Summons Number\": \"count\"})\n",
        " .rename(columns={\"Summons Number\": \"Count\"})\n",
        " .sort_values([\"Count\"], ascending=False)\n",
        " .head(5)\n",
        ")\n",
        "```\n",
        "  </p>\n",
        "</details>\n"
      ]
    },
    {
      "cell_type": "code",
      "execution_count": 6,
      "metadata": {},
      "outputs": [],
      "source": [
        "## your solution here"
      ]
    },
    {
      "cell_type": "markdown",
      "metadata": {
        "id": "VjFfQLZHXehM"
      },
      "source": [
        "## Day of the week when more parking violations occur"
      ]
    },
    {
      "cell_type": "code",
      "execution_count": null,
      "metadata": {
        "colab": {
          "base_uri": "https://localhost:8080/"
        },
        "id": "s5_y9m_AXhIw",
        "outputId": "a78faa2b-26fd-46b0-bb64-60ba43ed4f7c"
      },
      "outputs": [],
      "source": [
        "%%time\n",
        "weekday_names = {\n",
        "    0: \"Monday\",\n",
        "    1: \"Tuesday\", \n",
        "    2: \"Wednesday\",\n",
        "    3: \"Thursday\",\n",
        "    4: \"Friday\",\n",
        "    5: \"Saturday\",\n",
        "    6: \"Sunday\",\n",
        "}\n",
        "\n",
        "df[\"Issue Date\"] = df[\"Issue Date\"].astype(\"datetime64[ms]\")\n",
        "df[\"issue_weekday\"] = df[\"Issue Date\"].dt.weekday.map(weekday_names)\n",
        "\n",
        "df.groupby([\"issue_weekday\"])[\"Summons Number\"].count().sort_values(ascending=False)"
      ]
    },
    {
      "cell_type": "markdown",
      "metadata": {},
      "source": [
        "## What is the county where most of the parking violations happen? "
      ]
    },
    {
      "cell_type": "code",
      "execution_count": null,
      "metadata": {},
      "outputs": [],
      "source": [
        "(\n",
        "    df.groupby(\"Violation County\")\n",
        "    .size()\n",
        "    .sort_values(ascending=False)\n",
        "    .head(10)\n",
        ")"
      ]
    },
    {
      "cell_type": "markdown",
      "metadata": {},
      "source": [
        "**Exercise:** Find the top 5 most common parking violations for vehicles that are either SUVs (Vehicle Body Type = \"SUBN\")\n",
        "or pickup trucks (Vehicle Body Type = \"PICK\"), but only for vehicles made after 2010, and show the count for each violation type.\n",
        "\n",
        "<details>\n",
        "  <summary>Solution (click dropdown) </summary>\n",
        "  <p>\n",
        "\n",
        "```python\n",
        "# to run this type it in a code cell\n",
        "\n",
        "# Filter for SUVs and pickup trucks made after 2010\n",
        "recent_suv_pickup = df[\n",
        "    (df[\"Vehicle Body Type\"].isin([\"SUBN\", \"PICK\"])) & \n",
        "    (df[\"Vehicle Year\"] > 2010)\n",
        "]\n",
        "\n",
        "# Group by violation type and count, then get top 5\n",
        "(\n",
        "    recent_suv_pickup\n",
        "    .groupby(\"Violation Description\")\n",
        "    .size()\n",
        "    .sort_values(ascending=False)\n",
        "    .head(5)\n",
        "    .rename(\"Number of Violations\")\n",
        ")\n",
        "```\n",
        "  </p>\n",
        "</details>"
      ]
    },
    {
      "cell_type": "code",
      "execution_count": null,
      "metadata": {},
      "outputs": [],
      "source": [
        "# your solution here"
      ]
    },
    {
      "cell_type": "markdown",
      "metadata": {
        "id": "3yK3a-mIp0vr"
      },
      "source": [
        "## Using third-party libraries with cudf.pandas\n",
        "\n",
        "You can pass Pandas objects to third-party libraries when using `cudf.pandas`, just like you would when using regular Pandas.\n",
        "\n",
        "Below, we show an example of using [plotly-express](https://plotly.com/python/plotly-express/) to visualize the data we've been processing.\n",
        "\n",
        "### Visualizing which states have more pickup trucks relative to other vehicles?"
      ]
    },
    {
      "cell_type": "code",
      "execution_count": null,
      "metadata": {
        "colab": {
          "base_uri": "https://localhost:8080/",
          "height": 542
        },
        "id": "Ecs213eEqCd9",
        "outputId": "04c33fe3-c170-4078-a96f-e8adf1ca8336"
      },
      "outputs": [],
      "source": [
        "import plotly.express as px\n",
        "\n",
        "df = df.rename(\n",
        "    columns={\n",
        "        \"Registration State\": \"reg_state\",\n",
        "        \"Vehicle Body Type\": \"vehicle_type\",\n",
        "    }\n",
        ")\n",
        "\n",
        "# vehicle counts per state:\n",
        "counts = df.groupby(\"reg_state\").size().sort_index()\n",
        "# vehicles with type \"PICK\" (Pickup Truck)\n",
        "pickup_counts = df.where(df[\"vehicle_type\"] == \"PICK\").groupby(\"reg_state\").size()\n",
        "# percentage of pickup trucks by state:\n",
        "pickup_frac = ((pickup_counts / counts) * 100).rename(\"% Pickup Trucks\")\n",
        "del pickup_frac[\"MB\"]  # (Manitoba CA is a huge outlier!)\n",
        "\n",
        "# plot the results:\n",
        "pickup_frac = pickup_frac.reset_index()\n",
        "px.choropleth(\n",
        "    pickup_frac,\n",
        "    locations=\"reg_state\",\n",
        "    color=\"% Pickup Trucks\",\n",
        "    locationmode=\"USA-states\",\n",
        "    scope=\"usa\",\n",
        ")"
      ]
    },
    {
      "cell_type": "markdown",
      "metadata": {
        "id": "00m6gUxqeGzk"
      },
      "source": [
        "# Understanding Performance\n",
        "\n",
        "`cudf.pandas` provides profiling utilities to help you better understand performance. With these tools, you can identify which parts of your code ran on the GPU and which parts ran on the CPU.\n",
        "\n",
        "They're accessible in the `cudf.pandas` namespace since the `cudf.pandas` extension was loaded above with `load_ext cudf.pandas`.\n",
        "\n",
        "#### Colab Note\n",
        "If you're running in Colab, the first time you run use the profiler it may take 10+ seconds due to Colab's debugger interacting with the built-in Python function [sys.settrace](https://docs.python.org/3/library/sys.html#sys.settrace) that we use for profiling. For demo purposes, this isn't an issue. Just run the cell again.\n",
        "\n",
        "## Profiling Functionality\n",
        "\n",
        "We can generate a per-function profile:"
      ]
    },
    {
      "cell_type": "code",
      "execution_count": null,
      "metadata": {
        "id": "RFm22OWbeHF2"
      },
      "outputs": [],
      "source": [
        "%%cudf.pandas.profile\n",
        "\n",
        "small_df = pd.DataFrame({\"a\": [\"0\", \"1\", \"2\"], \"b\": [\"x\", \"y\", \"z\"]})\n",
        "small_df = pd.concat([small_df, small_df])\n",
        "\n",
        "axis = 0\n",
        "for i in range(0, 2):\n",
        "    small_df.min(axis=axis)\n",
        "    axis = i\n",
        "\n",
        "counts = small_df.groupby(\"a\").b.count()"
      ]
    },
    {
      "cell_type": "code",
      "execution_count": null,
      "metadata": {
        "colab": {
          "base_uri": "https://localhost:8080/",
          "height": 822
        },
        "id": "Syb-_vZweN2H",
        "outputId": "bd05e9aa-7e55-4a32-a813-e53e8d2ade27"
      },
      "outputs": [],
      "source": [
        "%%cudf.pandas.line_profile\n",
        "\n",
        "small_df = pd.DataFrame({\"a\": [\"0\", \"1\", \"2\"], \"b\": [\"x\", \"y\", \"z\"]})\n",
        "small_df = pd.concat([small_df, small_df])\n",
        "\n",
        "axis = 0\n",
        "for i in range(0, 2):\n",
        "    small_df.min(axis=axis)\n",
        "    axis = 1\n",
        "\n",
        "counts = small_df.groupby(\"a\").b.count()"
      ]
    },
    {
      "cell_type": "markdown",
      "metadata": {
        "id": "VCZ6BxwBpfjL"
      },
      "source": [
        "## Behind the scenes: What's going on here?\n",
        "\n",
        "When you load `cudf.pandas`, Pandas types like `Series` and `DataFrame` are replaced by proxy objects that dispatch \n",
        "operations to cuDF when possible. We can verify that `cudf.pandas` is active by looking at our `pd` variable:"
      ]
    },
    {
      "cell_type": "code",
      "execution_count": null,
      "metadata": {
        "colab": {
          "base_uri": "https://localhost:8080/"
        },
        "id": "jogk5UrgeTkS",
        "outputId": "83079e87-3988-4df6-90eb-68acd00ff038"
      },
      "outputs": [],
      "source": [
        "pd"
      ]
    },
    {
      "cell_type": "markdown",
      "metadata": {
        "id": "vxh70rpDph3I"
      },
      "source": [
        "As a result, all pandas functions, methods, and created objects are proxies:"
      ]
    },
    {
      "cell_type": "code",
      "execution_count": null,
      "metadata": {
        "colab": {
          "base_uri": "https://localhost:8080/",
          "height": 121
        },
        "id": "RYTCGl7spgjs",
        "outputId": "c1d915a3-29c2-46ec-db62-00dad9b5a89f"
      },
      "outputs": [],
      "source": [
        "type(pd.read_csv)"
      ]
    },
    {
      "cell_type": "markdown",
      "metadata": {
        "id": "9-NvKu7XplmO"
      },
      "source": [
        "Operations supported by cuDF will be **very** fast:"
      ]
    },
    {
      "cell_type": "code",
      "execution_count": null,
      "metadata": {
        "colab": {
          "base_uri": "https://localhost:8080/"
        },
        "id": "MFvLJo4upnUG",
        "outputId": "f40387af-0e54-43a2-95d5-d0f403791e08"
      },
      "outputs": [],
      "source": [
        "%%time\n",
        "df.count(axis=0)"
      ]
    },
    {
      "cell_type": "markdown",
      "metadata": {
        "id": "Np6VP-wSpomO"
      },
      "source": [
        "Operations not supported by cuDF will be slower, as they fall back to using Pandas (copying data between the CPU and GPU \n",
        "under the hood as needed). For example, cuDF does not currently support the `axis=` parameter to the `count` method. So \n",
        "this operation will run on the CPU and be noticeably slower than the previous one."
      ]
    },
    {
      "cell_type": "code",
      "execution_count": null,
      "metadata": {
        "colab": {
          "base_uri": "https://localhost:8080/"
        },
        "id": "mThydJIYpuha",
        "outputId": "b803003f-adb3-4ef0-c152-0def5aa39a2f"
      },
      "outputs": [],
      "source": [
        "%%time\n",
        "df.count(axis=1) # This will use pandas, because cuDF doesn't support axis=1 for the .count() method"
      ]
    },
    {
      "cell_type": "markdown",
      "metadata": {
        "id": "pyVNtGUhtFs5"
      },
      "source": [
        "## FAQ\n",
        "\n",
        "### When should I use cuDF (direct import) versus cudf.pandas?\n",
        "\n",
        "**Use cudf.pandas if**\n",
        "- You have existing pandas code and you want to run it on GPUs with 0 effort\n",
        "- The ability to run the same code on GPU-enabled as well as CPU-only systems is important\n",
        "\n",
        "**Use cuDF (direct import) if:**\n",
        "- You want everything to run on GPU (CPU fallback is prohibitively expensive)\n",
        "- You need functionality that cuDF provides but pandas does not\n",
        "\n",
        "### How do you ensure pandas compatibility?\n",
        "\n",
        "- We run the entire pandas unit test suite with cudf.pandas enabled\n",
        "    -  ~94% of the tests passing – a few minor differences\n",
        "- We turn on cuDF’s “pandas compatibility mode” (ensures result ordering matches pandas, etc.)\n",
        "\n",
        "    ```python\n",
        "    cudf.set_option(\"mode.pandas_compatible\", True)\n",
        "    ```\n",
        "\n",
        "## Tips and Tricks\n",
        "\n",
        "- Use the profiler to learn which function are run on CPU and GPU (doesn't report CPU<->GPU transfer)\n",
        "- CPU fallback involves copying data between CPU and GPU – twice in the worst case.\n",
        "- Use GPU-supported operations as much as possible\n",
        "- GPU memory is limited compared to CPU RAM\n",
        "    - If you ran out of GPU memory, it will fall back to CPU (**unexpected slowdown**)\n",
        "    - Keep only the data that you need \n",
        "    - Monitor GPU usage (only on Jupyter - NVDashboard)\n",
        "- When possible use idiomatic pandas and avoid udfs  \n"
      ]
    },
    {
      "cell_type": "markdown",
      "metadata": {},
      "source": [
        "## Conclusion\n",
        "\n",
        "In this notebook, we learned:\n",
        "- How to use cudf.pandas to accelerate pandas code on GPUs without code changes\n",
        "- The differences between direct cuDF import and cudf.pandas\n",
        "- When operations fall back to CPU and the performance implications\n",
        "- Best practices for using cudf.pandas effectively\n",
        "\n",
        "With `cudf.pandas`, you can continue using pandas as your primary dataframe library. When things start to get a little \n",
        "slow, just load the `cudf.pandas` and run your existing code on a GPU!\n",
        "\n",
        "To learn more, we encourage you to visit [rapids.ai/cudf-pandas](https://rapids.ai/cudf-pandas).\n",
        "\n",
        "In the next notebook, we will learn about the cuDF polars engine\n",
        "\n",
        "[Next Notebook: 3 cudf polars →](https://colab.research.google.com/github/rapidsai-community/tutorial/blob/main/3.cudf_polars_engine.ipynb)\n",
        "\n",
        "\n"
      ]
    }
  ],
  "metadata": {
    "accelerator": "GPU",
    "colab": {
      "gpuType": "T4",
      "provenance": [],
      "toc_visible": true
    },
    "kernelspec": {
      "display_name": "rapids-tutorial",
      "language": "python",
      "name": "python3"
    },
    "language_info": {
      "codemirror_mode": {
        "name": "ipython",
        "version": 3
      },
      "file_extension": ".py",
      "mimetype": "text/x-python",
      "name": "python",
      "nbconvert_exporter": "python",
      "pygments_lexer": "ipython3",
      "version": "3.12.10"
    }
  },
  "nbformat": 4,
  "nbformat_minor": 0
}
