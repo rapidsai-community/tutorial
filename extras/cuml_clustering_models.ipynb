{
 "cells": [
  {
   "cell_type": "markdown",
   "id": "7b2aeeed-1be2-4386-b12f-af88d99f1ccb",
   "metadata": {},
   "source": [
    "## Clustering"
   ]
  },
  {
   "cell_type": "markdown",
   "id": "6dba9911-a387-4f28-9e14-41f666f24c6a",
   "metadata": {},
   "source": [
    "### UMAP and Trustworthiness metrics\n",
    "UMAP is a dimensionality reduction algorithm that performs non-linear dimension reduction. It can also be used for visualization.\n",
    "For additional information on the UMAP model please refer to the [RAPIDS UMAP documentation](https://docs.rapids.ai/api/cuml/stable/api.html#cuml.UMAP)\n",
    "\n",
    "Trustworthiness is a measure of the extent to which the local structure is retained in the embedding of the model. Therefore, \n",
    "if a sample predicted by the model lies within the unexpected region of the nearest neighbors, then those samples would be penalized. \n",
    "\n",
    "**Additional Resources:**\n",
    "- [scikit-learn trustworthiness documentation](https://scikit-learn.org/stable/modules/generated/sklearn.manifold.trustworthiness.html)\n",
    "- [cuML trustworthiness documentation](https://docs.rapids.ai/api/cuml/stable/api.html#cuml.metrics.trustworthiness.trustworthiness)\n",
    "\n",
    "The cell below shows an end to end pipeline of UMAP model. The blobs dataset is created by cuML's equivalent of `make_blobs` \n",
    "function to be used as the input. The output of UMAP's fit_transform is evaluated using the trustworthiness function. The\n",
    "values obtained by scikit-learn and cuML's trustworthiness are compared below.\n"
   ]
  },
  {
   "cell_type": "code",
   "execution_count": 4,
   "id": "63314bcf-b810-4826-b0b3-039560fbba3b",
   "metadata": {},
   "outputs": [],
   "source": [
    "from cuml.datasets import make_blobs\n",
    "from cuml.manifold.umap import UMAP as cuUMAP\n",
    "from sklearn.manifold import trustworthiness\n",
    "import numpy as np"
   ]
  },
  {
   "cell_type": "code",
   "execution_count": null,
   "id": "11609336-0a7c-43e7-af74-0b4938385db5",
   "metadata": {},
   "outputs": [],
   "source": [
    "%%time\n",
    "\n",
    "n_samples = 1000\n",
    "n_features = 100\n",
    "cluster_std = 0.1\n",
    "\n",
    "X_blobs, y_blobs = make_blobs(\n",
    "    n_samples=n_samples,\n",
    "    cluster_std=cluster_std,\n",
    "    n_features=n_features,\n",
    "    random_state=0,\n",
    "    dtype=np.float32,\n",
    ")\n",
    "\n",
    "trained_UMAP = cuUMAP(n_neighbors=10).fit(X_blobs)\n",
    "X_embedded = trained_UMAP.transform(X_blobs)\n",
    "\n",
    "cu_score = cuml.metrics.trustworthiness(X_blobs, X_embedded)\n",
    "sk_score = trustworthiness(asnumpy(X_blobs), asnumpy(X_embedded))\n",
    "\n",
    "print(\"cuml's trustworthiness score:\", cu_score)\n",
    "print(\"sklearn's trustworthiness score:\", sk_score)\n",
    "\n",
    "# save\n",
    "dump(trained_UMAP, \"UMAP.model\")\n",
    "\n",
    "# to reload the model uncomment the line below\n",
    "# loaded_model = load('UMAP.model')"
   ]
  },
  {
   "cell_type": "markdown",
   "id": "3735e55c-bb19-468a-85d1-44f0360d7e01",
   "metadata": {},
   "source": [
    "### DBSCAN and Adjusted Random Index\n",
    "\n",
    "DBSCAN is a popular and powerful clustering algorithm. For additional information on the DBSCAN model please refer to the \n",
    "[DBSCAN documentation](https://docs.rapids.ai/api/cuml/stable/api.html#cuml.DBSCAN)\n",
    "\n",
    "We create the blobs dataset using the cuML equivalent of `make_blobs` function.\n",
    "\n",
    "Adjusted random index is a metric which is used to measure the similarity between two data clusters, and it is adjusted to \n",
    "take into consideration the chance grouping of elements.\n",
    "For more information on Adjusted random index please refer to: [Wikipedia Rand index documentation](https://en.wikipedia.org/wiki/Rand_index)\n",
    "\n",
    "The cell below shows an end to end model of DBSCAN. The output of DBSCAN's fit_predict is evaluated using the Adjusted \n",
    "Random Index function. The values obtained by scikit-learn and cuML's adjusted random metric are compared below."
   ]
  },
  {
   "cell_type": "code",
   "execution_count": 8,
   "id": "bc37960a-1053-4dad-bc37-126103576a62",
   "metadata": {},
   "outputs": [],
   "source": [
    "from cuml import DBSCAN as cumlDBSCAN\n",
    "from sklearn.metrics import adjusted_rand_score"
   ]
  },
  {
   "cell_type": "code",
   "execution_count": null,
   "id": "fd6ecf3c-bce6-4e05-b9a3-cf81e2f6f685",
   "metadata": {},
   "outputs": [],
   "source": [
    "n_samples = 1000\n",
    "n_features = 100\n",
    "cluster_std = 0.1\n",
    "\n",
    "X_blobs, y_blobs = make_blobs(\n",
    "    n_samples=n_samples,\n",
    "    n_features=n_features,\n",
    "    cluster_std=cluster_std,\n",
    "    random_state=0,\n",
    "    dtype=np.float32,\n",
    ")\n",
    "\n",
    "cuml_dbscan = cumlDBSCAN(eps=3, min_samples=2)\n",
    "\n",
    "trained_DBSCAN = cuml_dbscan.fit(X_blobs)\n",
    "\n",
    "cu_y_pred = trained_DBSCAN.fit_predict(X_blobs)\n",
    "\n",
    "cu_adjusted_rand_index = cuml.metrics.cluster.adjusted_rand_score(y_blobs, cu_y_pred)\n",
    "sk_adjusted_rand_index = adjusted_rand_score(asnumpy(y_blobs), asnumpy(cu_y_pred))\n",
    "\n",
    "print(f\"cuml's adjusted random index score: {cu_adjusted_rand_index}\")\n",
    "print(f\"sklearn's adjusted random index score: {sk_adjusted_rand_index}\")\n",
    "\n",
    "# save and optionally reload\n",
    "dump(trained_DBSCAN, \"DBSCAN.model\")\n",
    "\n",
    "# to reload the model uncomment the line below\n",
    "# loaded_model = load('DBSCAN.model')"
   ]
  },
  {
   "cell_type": "code",
   "execution_count": null,
   "id": "f12bdac1-172f-40e5-8344-7fb986fee3f4",
   "metadata": {},
   "outputs": [],
   "source": []
  }
 ],
 "metadata": {
  "kernelspec": {
   "display_name": "Python 3 (ipykernel)",
   "language": "python",
   "name": "python3"
  },
  "language_info": {
   "codemirror_mode": {
    "name": "ipython",
    "version": 3
   },
   "file_extension": ".py",
   "mimetype": "text/x-python",
   "name": "python",
   "nbconvert_exporter": "python",
   "pygments_lexer": "ipython3",
   "version": "3.13.8"
  }
 },
 "nbformat": 4,
 "nbformat_minor": 5
}
